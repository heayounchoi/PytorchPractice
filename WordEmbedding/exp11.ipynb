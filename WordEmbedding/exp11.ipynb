{
 "cells": [
  {
   "cell_type": "code",
   "execution_count": 1,
   "metadata": {},
   "outputs": [],
   "source": [
    "# 한국어 위키피디아로 Word2Vec 학습하기"
   ]
  },
  {
   "cell_type": "code",
   "execution_count": 2,
   "metadata": {},
   "outputs": [
    {
     "data": {
      "text/plain": [
       "['AC', 'AD', 'AJ', 'AE', 'AB', 'AG', 'AI', 'AH', 'AA', 'AF']"
      ]
     },
     "execution_count": 2,
     "metadata": {},
     "output_type": "execute_result"
    }
   ],
   "source": [
    "import os\n",
    "import re\n",
    "\n",
    "os.listdir('text')"
   ]
  },
  {
   "cell_type": "code",
   "execution_count": 3,
   "metadata": {},
   "outputs": [],
   "source": [
    "def list_wiki(dirname):\n",
    "    filepaths = []\n",
    "    filenames = os.listdir(dirname)\n",
    "    for filename in filenames:\n",
    "        filepath = os.path.join(dirname, filename)\n",
    "\n",
    "        if os.path.isdir(filepath):\n",
    "            filepaths.extend(list_wiki(filepath))\n",
    "        else:\n",
    "            find = re.findall(r\"wiki_[0-9][0-9]\", filepath)\n",
    "            if 0 < len(find):\n",
    "                filepaths.append(filepath)\n",
    "    return sorted(filepaths)"
   ]
  },
  {
   "cell_type": "code",
   "execution_count": 4,
   "metadata": {},
   "outputs": [],
   "source": [
    "filepaths = list_wiki('text')"
   ]
  },
  {
   "cell_type": "code",
   "execution_count": 5,
   "metadata": {},
   "outputs": [],
   "source": [
    "with open(\"output_file.txt\", \"w\") as outfile:\n",
    "    for filename in filepaths:\n",
    "        with open(filename) as infile:\n",
    "            contents = infile.read()\n",
    "            outfile.write(contents)"
   ]
  },
  {
   "cell_type": "code",
   "execution_count": 6,
   "metadata": {},
   "outputs": [
    {
     "name": "stdout",
     "output_type": "stream",
     "text": [
      "1번째 줄 :<doc id=\"5\" url=\"https://ko.wikipedia.org/wiki?curid=5\" title=\"지미 카터\">\n",
      "\n",
      "2번째 줄 :지미 카터\n",
      "\n",
      "3번째 줄 :제임스 얼 카터 주니어(, 1924년 10월 1일~)는 민주당 출신 미국의 제39대 대통령(1977년~1981년)이다.\n",
      "\n",
      "4번째 줄 :생애.\n",
      "\n",
      "5번째 줄 :어린 시절.\n",
      "\n",
      "6번째 줄 :지미 카터는 조지아주 섬터 카운티 플레인스 마을에서 태어났다.\n",
      "\n",
      "7번째 줄 :조지아 공과대학교를 졸업하였다. 그 후 해군에 들어가 전함·원자력·잠수함의 승무원으로 일하였다. 1953년 미국 해군 대위로 예편하였고 이후 땅콩·면화 등을 가꿔 많은 돈을 벌었다. 그의 별명이 \"땅콩 농부\" (Peanut Farmer)로 알려졌다.\n",
      "\n",
      "8번째 줄 :정계 입문.\n",
      "\n",
      "9번째 줄 :1962년 조지아주 상원 의원 선거에서 낙선하였으나, 그 선거가 부정선거 였음을 입증하게 되어 당선되고, 1966년 조지아 주지사 선거에 낙선하지만, 1970년 조지아 주지사 선거에서 당선됐다. 대통령이 되기 전 조지아주 상원의원을 두번 연임했으며, 1971년부터 1975년까지 조지아 지사로 근무했다. 조지아 주지사로 지내면서, 미국에 사는 흑인 등용법을 내세웠다.\n",
      "\n",
      "10번째 줄 :대통령 재임.\n",
      "\n"
     ]
    }
   ],
   "source": [
    "f = open('output_file.txt', encoding=\"utf8\")\n",
    "\n",
    "i = 0\n",
    "while True:\n",
    "    line = f.readline()\n",
    "    if line != '\\n':\n",
    "        i = i+1\n",
    "        print(\"%d번째 줄 :\"%i + line)\n",
    "    if i==10:\n",
    "        break \n",
    "f.close()"
   ]
  },
  {
   "cell_type": "code",
   "execution_count": 28,
   "metadata": {},
   "outputs": [],
   "source": [
    "from tqdm import tqdm\n",
    "from konlpy.tag import Mecab "
   ]
  },
  {
   "cell_type": "code",
   "execution_count": 8,
   "metadata": {},
   "outputs": [],
   "source": [
    "mecab = Mecab()"
   ]
  },
  {
   "cell_type": "code",
   "execution_count": 9,
   "metadata": {},
   "outputs": [
    {
     "name": "stdout",
     "output_type": "stream",
     "text": [
      "11129030\n"
     ]
    }
   ],
   "source": [
    "f = open('output_file.txt', encoding=\"utf8\")\n",
    "lines = f.read().splitlines()\n",
    "print(len(lines))"
   ]
  },
  {
   "cell_type": "code",
   "execution_count": 10,
   "metadata": {},
   "outputs": [
    {
     "data": {
      "text/plain": [
       "['<doc id=\"5\" url=\"https://ko.wikipedia.org/wiki?curid=5\" title=\"지미 카터\">',\n",
       " '지미 카터',\n",
       " '',\n",
       " '제임스 얼 카터 주니어(, 1924년 10월 1일~)는 민주당 출신 미국의 제39대 대통령(1977년~1981년)이다.',\n",
       " '생애.',\n",
       " '어린 시절.',\n",
       " '지미 카터는 조지아주 섬터 카운티 플레인스 마을에서 태어났다.',\n",
       " '조지아 공과대학교를 졸업하였다. 그 후 해군에 들어가 전함·원자력·잠수함의 승무원으로 일하였다. 1953년 미국 해군 대위로 예편하였고 이후 땅콩·면화 등을 가꿔 많은 돈을 벌었다. 그의 별명이 \"땅콩 농부\" (Peanut Farmer)로 알려졌다.',\n",
       " '정계 입문.',\n",
       " '1962년 조지아주 상원 의원 선거에서 낙선하였으나, 그 선거가 부정선거 였음을 입증하게 되어 당선되고, 1966년 조지아 주지사 선거에 낙선하지만, 1970년 조지아 주지사 선거에서 당선됐다. 대통령이 되기 전 조지아주 상원의원을 두번 연임했으며, 1971년부터 1975년까지 조지아 지사로 근무했다. 조지아 주지사로 지내면서, 미국에 사는 흑인 등용법을 내세웠다.']"
      ]
     },
     "execution_count": 10,
     "metadata": {},
     "output_type": "execute_result"
    }
   ],
   "source": [
    "lines[:10]"
   ]
  },
  {
   "cell_type": "code",
   "execution_count": 11,
   "metadata": {},
   "outputs": [
    {
     "name": "stderr",
     "output_type": "stream",
     "text": [
      "  0%|          | 1708/11129030 [00:00<25:36, 7243.71it/s] "
     ]
    },
    {
     "name": "stdout",
     "output_type": "stream",
     "text": [
      "%(?:\\((?P<key>.*?)\\))?(?P<modifiers>[-#0-9 +*.hlL]*?)[eEfFgGdiouxXcrs%]\n"
     ]
    },
    {
     "name": "stderr",
     "output_type": "stream",
     "text": [
      "100%|██████████| 11129030/11129030 [04:51<00:00, 38156.00it/s] \n"
     ]
    }
   ],
   "source": [
    "result = []\n",
    "\n",
    "for line in tqdm(lines):\n",
    "  if line:\n",
    "    result.append(mecab.morphs(line))"
   ]
  },
  {
   "cell_type": "code",
   "execution_count": 12,
   "metadata": {},
   "outputs": [
    {
     "data": {
      "text/plain": [
       "7527200"
      ]
     },
     "execution_count": 12,
     "metadata": {},
     "output_type": "execute_result"
    }
   ],
   "source": [
    "len(result)"
   ]
  },
  {
   "cell_type": "code",
   "execution_count": 13,
   "metadata": {},
   "outputs": [
    {
     "name": "stdout",
     "output_type": "stream",
     "text": [
      "(?P<order1>[<>|=]?)(?P<repeats> *[(]?[ ,0-9]*[)]? *)(?P<order2>[<>|=]?)(?P<dtype>[A-Za-z0-9.?]*(?:\\[[a-zA-Z0-9,.]+\\])?)\n",
      "\\s*,\\s*\n",
      "\\s+$\n",
      "\\*\\*([0-9]*)\n",
      "[a-z0-9_]+\\(.*[,=].*\\)\n",
      "[0-9]+\n",
      "numpy.dtype size changed\n",
      "numpy.ufunc size changed\n",
      "numpy.ndarray size changed\n",
      "(\\d+ | [a-z]+ | \\.| -)\n",
      "^\\s*\n",
      "    v?\n",
      "    (?:\n",
      "        (?:(?P<epoch>[0-9]+)!)?                           # epoch\n",
      "        (?P<release>[0-9]+(?:\\.[0-9]+)*)                  # release segment\n",
      "        (?P<pre>                                          # pre-release\n",
      "            [-_\\.]?\n",
      "            (?P<pre_l>(a|b|c|rc|alpha|beta|pre|preview))\n",
      "            [-_\\.]?\n",
      "            (?P<pre_n>[0-9]+)?\n",
      "        )?\n",
      "        (?P<post>                                         # post release\n",
      "            (?:-(?P<post_n1>[0-9]+))\n",
      "            |\n",
      "            (?:\n",
      "                [-_\\.]?\n",
      "                (?P<post_l>post|rev|r)\n",
      "                [-_\\.]?\n",
      "                (?P<post_n2>[0-9]+)?\n",
      "            )\n",
      "        )?\n",
      "        (?P<dev>                                          # dev release\n",
      "            [-_\\.]?\n",
      "            (?P<dev_l>dev)\n",
      "            [-_\\.]?\n",
      "            (?P<dev_n>[0-9]+)?\n",
      "        )?\n",
      "    )\n",
      "    (?:\\+(?P<local>[a-z0-9]+(?:[-_\\.][a-z0-9]+)*))?       # local version\n",
      "\\s*$\n",
      "[\\._-]\n",
      "\\s*def\\s*([_\\w][_\\w\\d]*)\\s*\\(\n",
      "with bounds (?P<b>.*?)( and (?P<s>.*?) storage){0,1}\\n\n",
      "Default: (?P<d>.*?)\\n\n",
      "the matrix subclass is not the recommended way\n",
      "%[a-fA-F0-9]{2}\n",
      "^(?:[a-zA-Z][a-zA-Z0-9+-]*:|/)\n",
      "^(?:([a-zA-Z][a-zA-Z0-9+.-]*):)?(?://([^\\\\/?#]*))?([^?#]*)(?:\\?([^#]*))?(?:#(.*))?$\n",
      "^(/[^?#]*)(?:\\?([^#]*))?(?:#.*)?$\n",
      "^(?:[0-9]{1,3}\\.){3}[0-9]{1,3}$\n",
      "^(?:(?:[0-9A-Fa-f]{1,4}:){6}(?:[0-9A-Fa-f]{1,4}:[0-9A-Fa-f]{1,4}|(?:[0-9]{1,3}\\.){3}[0-9]{1,3})|::(?:[0-9A-Fa-f]{1,4}:){5}(?:[0-9A-Fa-f]{1,4}:[0-9A-Fa-f]{1,4}|(?:[0-9]{1,3}\\.){3}[0-9]{1,3})|(?:[0-9A-Fa-f]{1,4})?::(?:[0-9A-Fa-f]{1,4}:){4}(?:[0-9A-Fa-f]{1,4}:[0-9A-Fa-f]{1,4}|(?:[0-9]{1,3}\\.){3}[0-9]{1,3})|(?:(?:[0-9A-Fa-f]{1,4}:)?[0-9A-Fa-f]{1,4})?::(?:[0-9A-Fa-f]{1,4}:){3}(?:[0-9A-Fa-f]{1,4}:[0-9A-Fa-f]{1,4}|(?:[0-9]{1,3}\\.){3}[0-9]{1,3})|(?:(?:[0-9A-Fa-f]{1,4}:){0,2}[0-9A-Fa-f]{1,4})?::(?:[0-9A-Fa-f]{1,4}:){2}(?:[0-9A-Fa-f]{1,4}:[0-9A-Fa-f]{1,4}|(?:[0-9]{1,3}\\.){3}[0-9]{1,3})|(?:(?:[0-9A-Fa-f]{1,4}:){0,3}[0-9A-Fa-f]{1,4})?::[0-9A-Fa-f]{1,4}:(?:[0-9A-Fa-f]{1,4}:[0-9A-Fa-f]{1,4}|(?:[0-9]{1,3}\\.){3}[0-9]{1,3})|(?:(?:[0-9A-Fa-f]{1,4}:){0,4}[0-9A-Fa-f]{1,4})?::(?:[0-9A-Fa-f]{1,4}:[0-9A-Fa-f]{1,4}|(?:[0-9]{1,3}\\.){3}[0-9]{1,3})|(?:(?:[0-9A-Fa-f]{1,4}:){0,5}[0-9A-Fa-f]{1,4})?::[0-9A-Fa-f]{1,4}|(?:(?:[0-9A-Fa-f]{1,4}:){0,6}[0-9A-Fa-f]{1,4})?::)$\n",
      "^\\[(?:(?:[0-9A-Fa-f]{1,4}:){6}(?:[0-9A-Fa-f]{1,4}:[0-9A-Fa-f]{1,4}|(?:[0-9]{1,3}\\.){3}[0-9]{1,3})|::(?:[0-9A-Fa-f]{1,4}:){5}(?:[0-9A-Fa-f]{1,4}:[0-9A-Fa-f]{1,4}|(?:[0-9]{1,3}\\.){3}[0-9]{1,3})|(?:[0-9A-Fa-f]{1,4})?::(?:[0-9A-Fa-f]{1,4}:){4}(?:[0-9A-Fa-f]{1,4}:[0-9A-Fa-f]{1,4}|(?:[0-9]{1,3}\\.){3}[0-9]{1,3})|(?:(?:[0-9A-Fa-f]{1,4}:)?[0-9A-Fa-f]{1,4})?::(?:[0-9A-Fa-f]{1,4}:){3}(?:[0-9A-Fa-f]{1,4}:[0-9A-Fa-f]{1,4}|(?:[0-9]{1,3}\\.){3}[0-9]{1,3})|(?:(?:[0-9A-Fa-f]{1,4}:){0,2}[0-9A-Fa-f]{1,4})?::(?:[0-9A-Fa-f]{1,4}:){2}(?:[0-9A-Fa-f]{1,4}:[0-9A-Fa-f]{1,4}|(?:[0-9]{1,3}\\.){3}[0-9]{1,3})|(?:(?:[0-9A-Fa-f]{1,4}:){0,3}[0-9A-Fa-f]{1,4})?::[0-9A-Fa-f]{1,4}:(?:[0-9A-Fa-f]{1,4}:[0-9A-Fa-f]{1,4}|(?:[0-9]{1,3}\\.){3}[0-9]{1,3})|(?:(?:[0-9A-Fa-f]{1,4}:){0,4}[0-9A-Fa-f]{1,4})?::(?:[0-9A-Fa-f]{1,4}:[0-9A-Fa-f]{1,4}|(?:[0-9]{1,3}\\.){3}[0-9]{1,3})|(?:(?:[0-9A-Fa-f]{1,4}:){0,5}[0-9A-Fa-f]{1,4})?::[0-9A-Fa-f]{1,4}|(?:(?:[0-9A-Fa-f]{1,4}:){0,6}[0-9A-Fa-f]{1,4})?::)(?:(?:%25|%)(?:[ABCDEFGHIJKLMNOPQRSTUVWXYZabcdefghijklmnopqrstuvwxyz0123456789._\\-~]|%[a-fA-F0-9]{2})+)?\\]$\n",
      "^(?:(?:[0-9A-Fa-f]{1,4}:){6}(?:[0-9A-Fa-f]{1,4}:[0-9A-Fa-f]{1,4}|(?:[0-9]{1,3}\\.){3}[0-9]{1,3})|::(?:[0-9A-Fa-f]{1,4}:){5}(?:[0-9A-Fa-f]{1,4}:[0-9A-Fa-f]{1,4}|(?:[0-9]{1,3}\\.){3}[0-9]{1,3})|(?:[0-9A-Fa-f]{1,4})?::(?:[0-9A-Fa-f]{1,4}:){4}(?:[0-9A-Fa-f]{1,4}:[0-9A-Fa-f]{1,4}|(?:[0-9]{1,3}\\.){3}[0-9]{1,3})|(?:(?:[0-9A-Fa-f]{1,4}:)?[0-9A-Fa-f]{1,4})?::(?:[0-9A-Fa-f]{1,4}:){3}(?:[0-9A-Fa-f]{1,4}:[0-9A-Fa-f]{1,4}|(?:[0-9]{1,3}\\.){3}[0-9]{1,3})|(?:(?:[0-9A-Fa-f]{1,4}:){0,2}[0-9A-Fa-f]{1,4})?::(?:[0-9A-Fa-f]{1,4}:){2}(?:[0-9A-Fa-f]{1,4}:[0-9A-Fa-f]{1,4}|(?:[0-9]{1,3}\\.){3}[0-9]{1,3})|(?:(?:[0-9A-Fa-f]{1,4}:){0,3}[0-9A-Fa-f]{1,4})?::[0-9A-Fa-f]{1,4}:(?:[0-9A-Fa-f]{1,4}:[0-9A-Fa-f]{1,4}|(?:[0-9]{1,3}\\.){3}[0-9]{1,3})|(?:(?:[0-9A-Fa-f]{1,4}:){0,4}[0-9A-Fa-f]{1,4})?::(?:[0-9A-Fa-f]{1,4}:[0-9A-Fa-f]{1,4}|(?:[0-9]{1,3}\\.){3}[0-9]{1,3})|(?:(?:[0-9A-Fa-f]{1,4}:){0,5}[0-9A-Fa-f]{1,4})?::[0-9A-Fa-f]{1,4}|(?:(?:[0-9A-Fa-f]{1,4}:){0,6}[0-9A-Fa-f]{1,4})?::)(?:(?:%25|%)(?:[ABCDEFGHIJKLMNOPQRSTUVWXYZabcdefghijklmnopqrstuvwxyz0123456789._\\-~]|%[a-fA-F0-9]{2})+)?$\n",
      "((?:%25|%)(?:[ABCDEFGHIJKLMNOPQRSTUVWXYZabcdefghijklmnopqrstuvwxyz0123456789._\\-~]|%[a-fA-F0-9]{2})+)\\]$\n",
      "^((?:[^\\[\\]%:/?#]|%[a-fA-F0-9]{2})*|(?:[0-9]{1,3}\\.){3}[0-9]{1,3}|\\[(?:(?:[0-9A-Fa-f]{1,4}:){6}(?:[0-9A-Fa-f]{1,4}:[0-9A-Fa-f]{1,4}|(?:[0-9]{1,3}\\.){3}[0-9]{1,3})|::(?:[0-9A-Fa-f]{1,4}:){5}(?:[0-9A-Fa-f]{1,4}:[0-9A-Fa-f]{1,4}|(?:[0-9]{1,3}\\.){3}[0-9]{1,3})|(?:[0-9A-Fa-f]{1,4})?::(?:[0-9A-Fa-f]{1,4}:){4}(?:[0-9A-Fa-f]{1,4}:[0-9A-Fa-f]{1,4}|(?:[0-9]{1,3}\\.){3}[0-9]{1,3})|(?:(?:[0-9A-Fa-f]{1,4}:)?[0-9A-Fa-f]{1,4})?::(?:[0-9A-Fa-f]{1,4}:){3}(?:[0-9A-Fa-f]{1,4}:[0-9A-Fa-f]{1,4}|(?:[0-9]{1,3}\\.){3}[0-9]{1,3})|(?:(?:[0-9A-Fa-f]{1,4}:){0,2}[0-9A-Fa-f]{1,4})?::(?:[0-9A-Fa-f]{1,4}:){2}(?:[0-9A-Fa-f]{1,4}:[0-9A-Fa-f]{1,4}|(?:[0-9]{1,3}\\.){3}[0-9]{1,3})|(?:(?:[0-9A-Fa-f]{1,4}:){0,3}[0-9A-Fa-f]{1,4})?::[0-9A-Fa-f]{1,4}:(?:[0-9A-Fa-f]{1,4}:[0-9A-Fa-f]{1,4}|(?:[0-9]{1,3}\\.){3}[0-9]{1,3})|(?:(?:[0-9A-Fa-f]{1,4}:){0,4}[0-9A-Fa-f]{1,4})?::(?:[0-9A-Fa-f]{1,4}:[0-9A-Fa-f]{1,4}|(?:[0-9]{1,3}\\.){3}[0-9]{1,3})|(?:(?:[0-9A-Fa-f]{1,4}:){0,5}[0-9A-Fa-f]{1,4})?::[0-9A-Fa-f]{1,4}|(?:(?:[0-9A-Fa-f]{1,4}:){0,6}[0-9A-Fa-f]{1,4})?::)(?:(?:%25|%)(?:[ABCDEFGHIJKLMNOPQRSTUVWXYZabcdefghijklmnopqrstuvwxyz0123456789._\\-~]|%[a-fA-F0-9]{2})+)?\\])(?::0*?(|0|[1-9][0-9]{0,4}))?$\n",
      "[^-!#$%&'*+.^_`|~0-9a-zA-Z]\n",
      "(?:(?:encoding)|(?:charset)|(?:coding))(?:[\\:= ]{1,10})(?:[\\\"\\']?)([a-zA-Z0-9\\-_]+)(?:[\\\"\\']?)\n",
      "#( Netscape)? HTTP Cookie File\n",
      "^([-+])?(\\d\\d?):?(\\d\\d)?$\n",
      "^[SMTWF][a-z][a-z], (\\d\\d) ([JFMASOND][a-z][a-z]) (\\d\\d\\d\\d) (\\d\\d):(\\d\\d):(\\d\\d) GMT$\n",
      "^(?:Sun|Mon|Tue|Wed|Thu|Fri|Sat)[a-z]*,?\\s*\n",
      "^\n",
      "    (\\d\\d?)            # day\n",
      "       (?:\\s+|[-\\/])\n",
      "    (\\w+)              # month\n",
      "        (?:\\s+|[-\\/])\n",
      "    (\\d+)              # year\n",
      "    (?:\n",
      "          (?:\\s+|:)    # separator before clock\n",
      "       (\\d\\d?):(\\d\\d)  # hour:min\n",
      "       (?::(\\d\\d))?    # optional seconds\n",
      "    )?                 # optional clock\n",
      "       \\s*\n",
      "    (?:\n",
      "       ([-+]?\\d{2,4}|(?![APap][Mm]\\b)[A-Za-z]+) # timezone\n",
      "       \\s*\n",
      "    )?\n",
      "    (?:\n",
      "       \\(\\w+\\)         # ASCII representation of timezone in parens.\n",
      "       \\s*\n",
      "    )?$\n",
      "^\n",
      "    (\\d{4})              # year\n",
      "       [-\\/]?\n",
      "    (\\d\\d?)              # numerical month\n",
      "       [-\\/]?\n",
      "    (\\d\\d?)              # day\n",
      "   (?:\n",
      "         (?:\\s+|[-:Tt])  # separator before clock\n",
      "      (\\d\\d?):?(\\d\\d)    # hour:min\n",
      "      (?::?(\\d\\d(?:\\.\\d*)?))?  # optional seconds (and fractional)\n",
      "   )?                    # optional clock\n",
      "      \\s*\n",
      "   (?:\n",
      "      ([-+]?\\d\\d?:?(:?\\d\\d)?\n",
      "       |Z|z)             # timezone  (Z is \"zero meridian\", i.e. GMT)\n",
      "      \\s*\n",
      "   )?$\n",
      "^\\s*([^=\\s;,]+)\n",
      "^\\s*=\\s*\\\"([^\\\"\\\\]*(?:\\\\.[^\\\"\\\\]*)*)\\\"\n",
      "^\\s*=\\s*([^\\s;,]*)\n",
      "\\\\(.)\n",
      "([\\\"\\\\])\n",
      "\\.\\d+$\n",
      ":\\d+$\n",
      "%([0-9a-fA-F][0-9a-fA-F])\n",
      "\\W\n",
      "([\\\"\\\\])\n",
      "\\.?[^.]*\n",
      "[^.]*\n",
      "^\\.+\n",
      "^\\#LWP-Cookies-(\\d+\\.\\d+)\n",
      "[abcdefghijklmnopqrstuvwxyzABCDEFGHIJKLMNOPQRSTUVWXYZ0123456789!\\#\\$%\\&'\\*\\+\\-\\.\\^_`\\|\\~:]+\n",
      "\\\\[0-3][0-7][0-7]\n",
      "[\\\\].\n",
      "\n",
      "    \\s*                            # Optional whitespace at start of cookie\n",
      "    (?P<key>                       # Start of group 'key'\n",
      "    [\\w\\d!#%&'~_`><@,:/\\$\\*\\+\\-\\.\\^\\|\\)\\(\\?\\}\\{\\=]+?   # Any word of at least one letter\n",
      "    )                              # End of group 'key'\n",
      "    (                              # Optional group: there may not be a value.\n",
      "    \\s*=\\s*                          # Equal Sign\n",
      "    (?P<val>                         # Start of group 'val'\n",
      "    \"(?:[^\\\\\"]|\\\\.)*\"                  # Any doublequoted string\n",
      "    |                                  # or\n",
      "    \\w{3},\\s[\\w\\d\\s-]{9,11}\\s[\\d:]{8}\\sGMT  # Special case for \"expires\" attr\n",
      "    |                                  # or\n",
      "    [\\w\\d!#%&'~_`><@,:/\\$\\*\\+\\-\\.\\^\\|\\)\\(\\?\\}\\{\\=\\[\\]]*      # Any word or empty string\n",
      "    )                                # End of group 'val'\n",
      "    )?                             # End of optional value group\n",
      "    \\s*                            # Any number of spaces.\n",
      "    (\\s+|;|$)                      # Ending either at space, semicolon, or EOS.\n",
      "    \n",
      "Trying to detect\n",
      "charset_normalizer\n",
      "[.。．｡]\n",
      "b'^[^:\\\\s][^:\\\\r\\\\n]*$'\n",
      "^[^:\\s][^:\\r\\n]*$\n",
      "b'^\\\\S[^\\\\r\\\\n]*$|^$'\n",
      "^\\S[^\\r\\n]*$|^$\n",
      "(((?![\\d])\\w)+)\n",
      "&(#?)([xX]?)(\\w{1,8});\n",
      "([!\"\\#\\$%\\&'\\(\\)\\*\\+,\\-\\./:;<=>\\?@\\[\\\\\\]\\^_`\\{\\|\\}\\~])+\n",
      "<([^>]+)>\n",
      "[0-9]+\n",
      "\\W\n",
      "([a-z]+)([0-9]+)\n",
      "([0-9]+)([a-z]+)\n",
      "(\\s)+\n",
      "[_a-z]\\w*\\.py$\n",
      "^\\s*(:(?P<role>\\w+):`(?P<name>(?:~\\w+\\.)?[a-zA-Z0-9_\\.-]+)`|(?P<name2>[a-zA-Z0-9_\\.-]+))\\s*\n",
      "^\\s*(?P<allfuncs>(:(?P<role>\\w+):`(?P<name>(?:~\\w+\\.)?[a-zA-Z0-9_\\.-]+)`|(?P<name2>[a-zA-Z0-9_\\.-]+))(?P<morefuncs>([,]\\s+(:(?P<rolenext>\\w+):`(?P<namenext>(?:~\\w+\\.)?[a-zA-Z0-9_\\.-]+)`|(?P<namenext2>[a-zA-Z0-9_\\.-]+)))*))(?P<trailing>[,\\.])?(?P<description>\\s*:(\\s+(?P<desc>\\S+.*))?)?\\s*$\n",
      "^([\\w., ]+=)?\\s*[\\w\\.]+\\(.*\\)$\n",
      "^([\\w., ]+=)?\\s*[\\w\\.]+\\(.*\\)$\n",
      "^([\\w., ]+=)?\\s*[\\w\\.]+\\(.*\\)$\n",
      "^([\\w., ]+=)?\\s*[\\w\\.]+\\(.*\\)$\n",
      "^([\\w., ]+=)?\\s*[\\w\\.]+\\(.*\\)$\n",
      "^([\\w., ]+=)?\\s*[\\w\\.]+\\(.*\\)$\n",
      "^([\\w., ]+=)?\\s*[\\w\\.]+\\(.*\\)$\n",
      "^([\\w., ]+=)?\\s*[\\w\\.]+\\(.*\\)$\n",
      "^([\\w., ]+=)?\\s*[\\w\\.]+\\(.*\\)$\n",
      "^([\\w., ]+=)?\\s*[\\w\\.]+\\(.*\\)$\n",
      "^([\\w., ]+=)?\\s*[\\w\\.]+\\(.*\\)$\n",
      "^([\\w., ]+=)?\\s*[\\w\\.]+\\(.*\\)$\n",
      "^([\\w., ]+=)?\\s*[\\w\\.]+\\(.*\\)$\n",
      "^([\\w., ]+=)?\\s*[\\w\\.]+\\(.*\\)$\n",
      "^([\\w., ]+=)?\\s*[\\w\\.]+\\(.*\\)$\n",
      "^([\\w., ]+=)?\\s*[\\w\\.]+\\(.*\\)$\n",
      "^([\\w., ]+=)?\\s*[\\w\\.]+\\(.*\\)$\n",
      "^([\\w., ]+=)?\\s*[\\w\\.]+\\(.*\\)$\n",
      "^([\\w., ]+=)?\\s*[\\w\\.]+\\(.*\\)$\n",
      "^([\\w., ]+=)?\\s*[\\w\\.]+\\(.*\\)$\n",
      "('[^']*'|\\\"[^\\\"]*\\\"|::|//?|\\.\\.|\\(\\)|!=|[/.*:\\[\\]\\(\\)@=])|((?:\\{[^}]+\\})?[^/\\[\\]\\(\\)@!=\\s]+)|\\s+\n",
      "^\\w+:\\w+$\n",
      "<!--.*?-->\n",
      "<ref([> ].*?)(</ref>|/>)\n",
      "(\\n\\[\\[[a-z][a-z][\\w-]*:[^:\\]]+\\]\\])+$\n",
      "{{([^}{]*)}}\n",
      "{{([^}]*)}}\n",
      "\\[(\\w+):\\/\\/(.*?)(( (.*?))|())\\]\n",
      "\\[([^][]*)\\|([^][]*)\\]\n",
      "\\n\\[\\[[iI]mage(.*?)(\\|.*?)*\\|(.*?)\\]\\]\n",
      "\\n\\[\\[[fF]ile(.*?)(\\|.*?)*\\|(.*?)\\]\\]\n",
      "<nowiki([> ].*?)(</nowiki>|/>)\n",
      "<math([> ].*?)(</math>|/>)\n",
      "<(.*?)>\n",
      "(({\\|)|(\\|-(?!\\d))|(\\|}))(.*?)(?=\\n)\n",
      "(?<=(\\n[ ])|(\\n\\n)|([ ]{2})|(.\\n)|(.\\t))(\\||\\!)([^[\\]\\n]*?\\|)*\n",
      "\\[\\[Category:[^][]*\\]\\]\n",
      "\\[\\[([fF]ile:|[iI]mage)[^]]*(\\]\\])\n",
      "\\[{2}(.*?)\\]{2}\n",
      "(\\n.{0,4}((bgcolor)|(\\d{0,1}[ ]?colspan)|(rowspan)|(style=)|(class=)|(align=)|(scope=))(.*))|(^.{0,2}((bgcolor)|(\\d{0,1}[ ]?colspan)|(rowspan)|(style=)|(class=)|(align=))(.*))\n"
     ]
    }
   ],
   "source": [
    "from gensim.models import Word2Vec\n",
    "model = Word2Vec(result, vector_size=100, window=5, min_count=5, workers=4, sg=0)"
   ]
  },
  {
   "cell_type": "code",
   "execution_count": 24,
   "metadata": {},
   "outputs": [
    {
     "name": "stdout",
     "output_type": "stream",
     "text": [
      "[('한국', 0.7307055592536926), ('미국', 0.6652010679244995), ('일본', 0.6484999656677246), ('부산', 0.5742846727371216), ('홍콩', 0.5724295377731323), ('서울', 0.561198353767395), ('태국', 0.5552341938018799), ('오스트레일리아', 0.5517556667327881), ('한경', 0.5381312370300293), ('제주특별자치도', 0.5345262289047241)]\n"
     ]
    }
   ],
   "source": [
    "model_result1 = model.wv.most_similar(\"대한민국\")\n",
    "print(model_result1)"
   ]
  },
  {
   "cell_type": "code",
   "execution_count": 15,
   "metadata": {},
   "outputs": [
    {
     "name": "stdout",
     "output_type": "stream",
     "text": [
      "[('엑스맨', 0.7898859977722168), ('스파이더맨', 0.7788735628128052), ('퍼니셔', 0.7686418294906616), ('트와일라잇', 0.7561210989952087), ('어벤저스', 0.7561107873916626), ('아이언맨', 0.7497394680976868), ('인크레더블', 0.7463187575340271), ('데어데블', 0.741091251373291), ('배트맨', 0.7375123500823975), ('《》,', 0.7260107398033142)]\n"
     ]
    }
   ],
   "source": [
    "model_result2 = model.wv.most_similar(\"어벤져스\")\n",
    "print(model_result2)"
   ]
  },
  {
   "cell_type": "code",
   "execution_count": 16,
   "metadata": {},
   "outputs": [
    {
     "name": "stdout",
     "output_type": "stream",
     "text": [
      "[('집적회로', 0.8049557209014893), ('연료전지', 0.7972528338432312), ('웨이퍼', 0.7533517479896545), ('PCB', 0.7383823990821838), ('트랜지스터', 0.7358713150024414), ('윤활유', 0.7265740633010864), ('실리콘', 0.7221735715866089), ('그래핀', 0.7210060358047485), ('폴리머', 0.7206449508666992), ('전자', 0.7198912501335144)]\n"
     ]
    }
   ],
   "source": [
    "model_result3 = model.wv.most_similar(\"반도체\")\n",
    "print(model_result3)"
   ]
  }
 ],
 "metadata": {
  "kernelspec": {
   "display_name": "myenv",
   "language": "python",
   "name": "python3"
  },
  "language_info": {
   "codemirror_mode": {
    "name": "ipython",
    "version": 3
   },
   "file_extension": ".py",
   "mimetype": "text/x-python",
   "name": "python",
   "nbconvert_exporter": "python",
   "pygments_lexer": "ipython3",
   "version": "3.11.4"
  },
  "orig_nbformat": 4
 },
 "nbformat": 4,
 "nbformat_minor": 2
}
